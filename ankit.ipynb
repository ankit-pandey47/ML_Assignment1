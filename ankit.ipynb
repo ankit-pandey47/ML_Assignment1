{
 "cells": [
  {
   "cell_type": "code",
   "execution_count": 8,
   "id": "650bd3dd",
   "metadata": {},
   "outputs": [
    {
     "name": "stdout",
     "output_type": "stream",
     "text": [
      "ankit\n",
      "The value of the i is : 0  and the name is : ankit     \n"
     ]
    }
   ],
   "source": [
    "name = \"ankit\"\n",
    "print(name)\n",
    "i =0\n",
    "print(f\"The value of the i is : {i}  and the name is : {name:10s}\")"
   ]
  }
 ],
 "metadata": {
  "kernelspec": {
   "display_name": "base",
   "language": "python",
   "name": "python3"
  },
  "language_info": {
   "codemirror_mode": {
    "name": "ipython",
    "version": 3
   },
   "file_extension": ".py",
   "mimetype": "text/x-python",
   "name": "python",
   "nbconvert_exporter": "python",
   "pygments_lexer": "ipython3",
   "version": "3.12.7"
  }
 },
 "nbformat": 4,
 "nbformat_minor": 5
}
